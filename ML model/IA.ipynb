{
 "cells": [
  {
   "cell_type": "markdown",
   "metadata": {},
   "source": [
    "Third Party Library Imports\n"
   ]
  },
  {
   "cell_type": "code",
   "execution_count": 1,
   "metadata": {},
   "outputs": [],
   "source": [
    "import pandas as pd\n",
    "import numpy as np\n",
    "import sklearn\n",
    "from sklearn.manifold import TSNE\n",
    "from sklearn.decomposition import PCA\n",
    "from sklearn.discriminant_analysis import LinearDiscriminantAnalysis\n",
    "import matplotlib.pyplot as plt\n",
    "import seaborn as sns\n",
    "import io\n",
    "import glob"
   ]
  },
  {
   "cell_type": "markdown",
   "metadata": {},
   "source": [
    "Loading datasets into respective dataframes"
   ]
  },
  {
   "cell_type": "code",
   "execution_count": 2,
   "metadata": {},
   "outputs": [
    {
     "name": "stderr",
     "output_type": "stream",
     "text": [
      "C:\\Users\\imade\\AppData\\Local\\Temp\\ipykernel_15160\\3073905347.py:3: DtypeWarning: Columns (7) have mixed types. Specify dtype option on import or set low_memory=False.\n",
      "  Kenjiro_df = pd.read_csv(r'C:\\Users\\imade\\OneDrive\\Bureau\\IOT defender\\Kenjiro.csv')\n"
     ]
    }
   ],
   "source": [
    "gagfyt_df = pd.read_csv(r'C:\\Users\\***\\IOT defender\\Gagfyt.csv')\n",
    "Hide_and_seek_df = pd.read_csv(r'C:\\Users\\***\\IOT defender\\Hide_and_seek.csv')\n",
    "Kenjiro_df = pd.read_csv(r'C:\\Users\\***\\IOT defender\\Kenjiro.csv')\n",
    "Linux_Hajime_df = pd.read_csv(r'C:\\U***\\IOT defender\\Linux_Hajime_df.csv')\n",
    "Mirai_df = pd.read_csv(r'C:\\Users\\***\\IOT defender\\Mirai.csv')\n",
    "Muhstik_df = pd.read_csv(r'C:\\Users\\***\\IOT defender\\Muhstik.csv')\n",
    "Okiru_df = pd.read_csv(r'C:\\Users\\***\\IOT defender\\Okiru.csv') "
   ]
  },
  {
   "cell_type": "markdown",
   "metadata": {},
   "source": [
    "Cleannig malware sub-set dataframes"
   ]
  },
  {
   "cell_type": "code",
   "execution_count": 3,
   "metadata": {},
   "outputs": [],
   "source": [
    "pdList = [gagfyt_df, Hide_and_seek_df, Kenjiro_df, Mirai_df, Muhstik_df,Okiru_df, Linux_Hajime_df]  \n",
    "df = pd.concat(pdList,ignore_index=True)"
   ]
  },
  {
   "cell_type": "markdown",
   "metadata": {},
   "source": [
    "oncatinating the column Traffic labeled"
   ]
  },
  {
   "cell_type": "code",
   "execution_count": 4,
   "metadata": {},
   "outputs": [],
   "source": [
    "df['Traffic_Labeled'] = np.where(df['Traffic_Labeled']!=\"Benign\", df['Traffic_Labeled'] + df['Malware'], df['Traffic_Labeled'])\n",
    "\n",
    "\n",
    "df.drop([\"tunnel_parents   label   detailed-label\", \"Tunnel\", \"Malware\",\"index\"], axis =1, inplace = True)"
   ]
  },
  {
   "cell_type": "code",
   "execution_count": 5,
   "metadata": {},
   "outputs": [
    {
     "data": {
      "text/html": [
       "<div>\n",
       "<style scoped>\n",
       "    .dataframe tbody tr th:only-of-type {\n",
       "        vertical-align: middle;\n",
       "    }\n",
       "\n",
       "    .dataframe tbody tr th {\n",
       "        vertical-align: top;\n",
       "    }\n",
       "\n",
       "    .dataframe thead th {\n",
       "        text-align: right;\n",
       "    }\n",
       "</style>\n",
       "<table border=\"1\" class=\"dataframe\">\n",
       "  <thead>\n",
       "    <tr style=\"text-align: right;\">\n",
       "      <th></th>\n",
       "      <th>ts</th>\n",
       "      <th>uid</th>\n",
       "      <th>id.orig_h</th>\n",
       "      <th>id.orig_p</th>\n",
       "      <th>id.resp_h</th>\n",
       "      <th>id.resp_p</th>\n",
       "      <th>proto</th>\n",
       "      <th>service</th>\n",
       "      <th>duration</th>\n",
       "      <th>orig_bytes</th>\n",
       "      <th>...</th>\n",
       "      <th>conn_state</th>\n",
       "      <th>local_orig</th>\n",
       "      <th>local_resp</th>\n",
       "      <th>missed_bytes</th>\n",
       "      <th>history</th>\n",
       "      <th>orig_pkts</th>\n",
       "      <th>orig_ip_bytes</th>\n",
       "      <th>resp_pkts</th>\n",
       "      <th>resp_ip_bytes</th>\n",
       "      <th>Traffic_Labeled</th>\n",
       "    </tr>\n",
       "  </thead>\n",
       "  <tbody>\n",
       "    <tr>\n",
       "      <th>0</th>\n",
       "      <td>2019-09-20 22:27:19.984081920</td>\n",
       "      <td>CjnBrQ3lWRLcSTnJV6</td>\n",
       "      <td>192.168.1.195</td>\n",
       "      <td>4512</td>\n",
       "      <td>162.248.88.215</td>\n",
       "      <td>62336</td>\n",
       "      <td>tcp</td>\n",
       "      <td>NaN</td>\n",
       "      <td>NaN</td>\n",
       "      <td>NaN</td>\n",
       "      <td>...</td>\n",
       "      <td>OTH</td>\n",
       "      <td>NaN</td>\n",
       "      <td>NaN</td>\n",
       "      <td>0</td>\n",
       "      <td>C</td>\n",
       "      <td>0</td>\n",
       "      <td>0</td>\n",
       "      <td>0</td>\n",
       "      <td>0</td>\n",
       "      <td>Malicious DDoS</td>\n",
       "    </tr>\n",
       "    <tr>\n",
       "      <th>1</th>\n",
       "      <td>2019-09-20 22:25:46.017224960</td>\n",
       "      <td>CHL0ex2ROJt8hD3up6</td>\n",
       "      <td>192.168.1.195</td>\n",
       "      <td>49327</td>\n",
       "      <td>162.248.88.215</td>\n",
       "      <td>62336</td>\n",
       "      <td>tcp</td>\n",
       "      <td>NaN</td>\n",
       "      <td>NaN</td>\n",
       "      <td>NaN</td>\n",
       "      <td>...</td>\n",
       "      <td>OTH</td>\n",
       "      <td>NaN</td>\n",
       "      <td>NaN</td>\n",
       "      <td>0</td>\n",
       "      <td>C</td>\n",
       "      <td>0</td>\n",
       "      <td>0</td>\n",
       "      <td>0</td>\n",
       "      <td>0</td>\n",
       "      <td>Malicious DDoS</td>\n",
       "    </tr>\n",
       "    <tr>\n",
       "      <th>2</th>\n",
       "      <td>2019-09-20 22:25:34.246748928</td>\n",
       "      <td>C7bfRx4kiGSypeozCd</td>\n",
       "      <td>162.248.88.215</td>\n",
       "      <td>62336</td>\n",
       "      <td>192.168.1.195</td>\n",
       "      <td>614</td>\n",
       "      <td>tcp</td>\n",
       "      <td>NaN</td>\n",
       "      <td>NaN</td>\n",
       "      <td>NaN</td>\n",
       "      <td>...</td>\n",
       "      <td>OTH</td>\n",
       "      <td>NaN</td>\n",
       "      <td>NaN</td>\n",
       "      <td>0</td>\n",
       "      <td>^c</td>\n",
       "      <td>0</td>\n",
       "      <td>0</td>\n",
       "      <td>0</td>\n",
       "      <td>0</td>\n",
       "      <td>Benign</td>\n",
       "    </tr>\n",
       "    <tr>\n",
       "      <th>3</th>\n",
       "      <td>2019-09-20 22:26:06.340357120</td>\n",
       "      <td>CE7K0r1ua7NTzBHGDf</td>\n",
       "      <td>192.168.1.195</td>\n",
       "      <td>29776</td>\n",
       "      <td>162.248.88.215</td>\n",
       "      <td>62336</td>\n",
       "      <td>tcp</td>\n",
       "      <td>NaN</td>\n",
       "      <td>NaN</td>\n",
       "      <td>NaN</td>\n",
       "      <td>...</td>\n",
       "      <td>OTH</td>\n",
       "      <td>NaN</td>\n",
       "      <td>NaN</td>\n",
       "      <td>0</td>\n",
       "      <td>C</td>\n",
       "      <td>0</td>\n",
       "      <td>0</td>\n",
       "      <td>0</td>\n",
       "      <td>0</td>\n",
       "      <td>Malicious DDoS</td>\n",
       "    </tr>\n",
       "    <tr>\n",
       "      <th>4</th>\n",
       "      <td>2019-09-20 22:23:52.564219904</td>\n",
       "      <td>CylM264HX2dYzLJAl6</td>\n",
       "      <td>162.248.88.215</td>\n",
       "      <td>62336</td>\n",
       "      <td>192.168.1.195</td>\n",
       "      <td>3389</td>\n",
       "      <td>tcp</td>\n",
       "      <td>NaN</td>\n",
       "      <td>NaN</td>\n",
       "      <td>NaN</td>\n",
       "      <td>...</td>\n",
       "      <td>OTH</td>\n",
       "      <td>NaN</td>\n",
       "      <td>NaN</td>\n",
       "      <td>0</td>\n",
       "      <td>^c</td>\n",
       "      <td>0</td>\n",
       "      <td>0</td>\n",
       "      <td>0</td>\n",
       "      <td>0</td>\n",
       "      <td>Benign</td>\n",
       "    </tr>\n",
       "  </tbody>\n",
       "</table>\n",
       "<p>5 rows × 21 columns</p>\n",
       "</div>"
      ],
      "text/plain": [
       "                              ts                 uid       id.orig_h  \\\n",
       "0  2019-09-20 22:27:19.984081920  CjnBrQ3lWRLcSTnJV6   192.168.1.195   \n",
       "1  2019-09-20 22:25:46.017224960  CHL0ex2ROJt8hD3up6   192.168.1.195   \n",
       "2  2019-09-20 22:25:34.246748928  C7bfRx4kiGSypeozCd  162.248.88.215   \n",
       "3  2019-09-20 22:26:06.340357120  CE7K0r1ua7NTzBHGDf   192.168.1.195   \n",
       "4  2019-09-20 22:23:52.564219904  CylM264HX2dYzLJAl6  162.248.88.215   \n",
       "\n",
       "   id.orig_p       id.resp_h  id.resp_p proto service duration  orig_bytes  \\\n",
       "0       4512  162.248.88.215      62336   tcp     NaN      NaN         NaN   \n",
       "1      49327  162.248.88.215      62336   tcp     NaN      NaN         NaN   \n",
       "2      62336   192.168.1.195        614   tcp     NaN      NaN         NaN   \n",
       "3      29776  162.248.88.215      62336   tcp     NaN      NaN         NaN   \n",
       "4      62336   192.168.1.195       3389   tcp     NaN      NaN         NaN   \n",
       "\n",
       "   ...  conn_state local_orig  local_resp  missed_bytes  history orig_pkts  \\\n",
       "0  ...         OTH        NaN         NaN             0        C         0   \n",
       "1  ...         OTH        NaN         NaN             0        C         0   \n",
       "2  ...         OTH        NaN         NaN             0       ^c         0   \n",
       "3  ...         OTH        NaN         NaN             0        C         0   \n",
       "4  ...         OTH        NaN         NaN             0       ^c         0   \n",
       "\n",
       "   orig_ip_bytes  resp_pkts  resp_ip_bytes  Traffic_Labeled  \n",
       "0              0          0              0   Malicious DDoS  \n",
       "1              0          0              0   Malicious DDoS  \n",
       "2              0          0              0           Benign  \n",
       "3              0          0              0   Malicious DDoS  \n",
       "4              0          0              0           Benign  \n",
       "\n",
       "[5 rows x 21 columns]"
      ]
     },
     "execution_count": 5,
     "metadata": {},
     "output_type": "execute_result"
    }
   ],
   "source": [
    "df.head()"
   ]
  },
  {
   "cell_type": "markdown",
   "metadata": {},
   "source": [
    "Data Pre Processing"
   ]
  },
  {
   "cell_type": "code",
   "execution_count": 6,
   "metadata": {},
   "outputs": [],
   "source": [
    "df['Traffic_Labeled'] = df['Traffic_Labeled'].str.strip()"
   ]
  },
  {
   "cell_type": "code",
   "execution_count": 7,
   "metadata": {},
   "outputs": [
    {
     "data": {
      "text/plain": [
       "Traffic_Labeled\n",
       "Benign                                 1885954\n",
       "Malicious PartOfAHorizontalPortScan    1526588\n",
       "Malicious Okiru                         356530\n",
       "Malicious DDoS                            2476\n",
       "Malicious Attack                           199\n",
       "Malicious C&C-HeartBeat                    154\n",
       "Malicious C&C                                7\n",
       "Name: count, dtype: int64"
      ]
     },
     "execution_count": 7,
     "metadata": {},
     "output_type": "execute_result"
    }
   ],
   "source": [
    "df['Traffic_Labeled'].value_counts()"
   ]
  },
  {
   "cell_type": "markdown",
   "metadata": {},
   "source": [
    "Converting Originating endpoint’s TCP/UDP port (or ICMP code) to Categorical"
   ]
  },
  {
   "cell_type": "code",
   "execution_count": 8,
   "metadata": {},
   "outputs": [],
   "source": [
    "df[\"id.orig_p\"]= df[\"id.orig_p\"].values.astype(str)\n",
    "df[\"id.resp_p\"]= df[\"id.resp_p\"].values.astype(str)"
   ]
  },
  {
   "cell_type": "code",
   "execution_count": 9,
   "metadata": {},
   "outputs": [
    {
     "data": {
      "text/html": [
       "<div>\n",
       "<style scoped>\n",
       "    .dataframe tbody tr th:only-of-type {\n",
       "        vertical-align: middle;\n",
       "    }\n",
       "\n",
       "    .dataframe tbody tr th {\n",
       "        vertical-align: top;\n",
       "    }\n",
       "\n",
       "    .dataframe thead th {\n",
       "        text-align: right;\n",
       "    }\n",
       "</style>\n",
       "<table border=\"1\" class=\"dataframe\">\n",
       "  <thead>\n",
       "    <tr style=\"text-align: right;\">\n",
       "      <th></th>\n",
       "      <th>ts</th>\n",
       "      <th>uid</th>\n",
       "      <th>id.orig_h</th>\n",
       "      <th>id.orig_p</th>\n",
       "      <th>id.resp_h</th>\n",
       "      <th>id.resp_p</th>\n",
       "      <th>proto</th>\n",
       "      <th>service</th>\n",
       "      <th>duration</th>\n",
       "      <th>orig_bytes</th>\n",
       "      <th>...</th>\n",
       "      <th>conn_state</th>\n",
       "      <th>local_orig</th>\n",
       "      <th>local_resp</th>\n",
       "      <th>missed_bytes</th>\n",
       "      <th>history</th>\n",
       "      <th>orig_pkts</th>\n",
       "      <th>orig_ip_bytes</th>\n",
       "      <th>resp_pkts</th>\n",
       "      <th>resp_ip_bytes</th>\n",
       "      <th>Traffic_Labeled</th>\n",
       "    </tr>\n",
       "  </thead>\n",
       "  <tbody>\n",
       "    <tr>\n",
       "      <th>0</th>\n",
       "      <td>2019-09-20 22:27:19.984081920</td>\n",
       "      <td>CjnBrQ3lWRLcSTnJV6</td>\n",
       "      <td>192.168.1.195</td>\n",
       "      <td>4512</td>\n",
       "      <td>162.248.88.215</td>\n",
       "      <td>62336</td>\n",
       "      <td>tcp</td>\n",
       "      <td>NaN</td>\n",
       "      <td>NaN</td>\n",
       "      <td>NaN</td>\n",
       "      <td>...</td>\n",
       "      <td>OTH</td>\n",
       "      <td>NaN</td>\n",
       "      <td>NaN</td>\n",
       "      <td>0</td>\n",
       "      <td>C</td>\n",
       "      <td>0</td>\n",
       "      <td>0</td>\n",
       "      <td>0</td>\n",
       "      <td>0</td>\n",
       "      <td>Malicious DDoS</td>\n",
       "    </tr>\n",
       "    <tr>\n",
       "      <th>1</th>\n",
       "      <td>2019-09-20 22:25:46.017224960</td>\n",
       "      <td>CHL0ex2ROJt8hD3up6</td>\n",
       "      <td>192.168.1.195</td>\n",
       "      <td>49327</td>\n",
       "      <td>162.248.88.215</td>\n",
       "      <td>62336</td>\n",
       "      <td>tcp</td>\n",
       "      <td>NaN</td>\n",
       "      <td>NaN</td>\n",
       "      <td>NaN</td>\n",
       "      <td>...</td>\n",
       "      <td>OTH</td>\n",
       "      <td>NaN</td>\n",
       "      <td>NaN</td>\n",
       "      <td>0</td>\n",
       "      <td>C</td>\n",
       "      <td>0</td>\n",
       "      <td>0</td>\n",
       "      <td>0</td>\n",
       "      <td>0</td>\n",
       "      <td>Malicious DDoS</td>\n",
       "    </tr>\n",
       "    <tr>\n",
       "      <th>2</th>\n",
       "      <td>2019-09-20 22:25:34.246748928</td>\n",
       "      <td>C7bfRx4kiGSypeozCd</td>\n",
       "      <td>162.248.88.215</td>\n",
       "      <td>62336</td>\n",
       "      <td>192.168.1.195</td>\n",
       "      <td>614</td>\n",
       "      <td>tcp</td>\n",
       "      <td>NaN</td>\n",
       "      <td>NaN</td>\n",
       "      <td>NaN</td>\n",
       "      <td>...</td>\n",
       "      <td>OTH</td>\n",
       "      <td>NaN</td>\n",
       "      <td>NaN</td>\n",
       "      <td>0</td>\n",
       "      <td>^c</td>\n",
       "      <td>0</td>\n",
       "      <td>0</td>\n",
       "      <td>0</td>\n",
       "      <td>0</td>\n",
       "      <td>Benign</td>\n",
       "    </tr>\n",
       "    <tr>\n",
       "      <th>3</th>\n",
       "      <td>2019-09-20 22:26:06.340357120</td>\n",
       "      <td>CE7K0r1ua7NTzBHGDf</td>\n",
       "      <td>192.168.1.195</td>\n",
       "      <td>29776</td>\n",
       "      <td>162.248.88.215</td>\n",
       "      <td>62336</td>\n",
       "      <td>tcp</td>\n",
       "      <td>NaN</td>\n",
       "      <td>NaN</td>\n",
       "      <td>NaN</td>\n",
       "      <td>...</td>\n",
       "      <td>OTH</td>\n",
       "      <td>NaN</td>\n",
       "      <td>NaN</td>\n",
       "      <td>0</td>\n",
       "      <td>C</td>\n",
       "      <td>0</td>\n",
       "      <td>0</td>\n",
       "      <td>0</td>\n",
       "      <td>0</td>\n",
       "      <td>Malicious DDoS</td>\n",
       "    </tr>\n",
       "    <tr>\n",
       "      <th>4</th>\n",
       "      <td>2019-09-20 22:23:52.564219904</td>\n",
       "      <td>CylM264HX2dYzLJAl6</td>\n",
       "      <td>162.248.88.215</td>\n",
       "      <td>62336</td>\n",
       "      <td>192.168.1.195</td>\n",
       "      <td>3389</td>\n",
       "      <td>tcp</td>\n",
       "      <td>NaN</td>\n",
       "      <td>NaN</td>\n",
       "      <td>NaN</td>\n",
       "      <td>...</td>\n",
       "      <td>OTH</td>\n",
       "      <td>NaN</td>\n",
       "      <td>NaN</td>\n",
       "      <td>0</td>\n",
       "      <td>^c</td>\n",
       "      <td>0</td>\n",
       "      <td>0</td>\n",
       "      <td>0</td>\n",
       "      <td>0</td>\n",
       "      <td>Benign</td>\n",
       "    </tr>\n",
       "    <tr>\n",
       "      <th>...</th>\n",
       "      <td>...</td>\n",
       "      <td>...</td>\n",
       "      <td>...</td>\n",
       "      <td>...</td>\n",
       "      <td>...</td>\n",
       "      <td>...</td>\n",
       "      <td>...</td>\n",
       "      <td>...</td>\n",
       "      <td>...</td>\n",
       "      <td>...</td>\n",
       "      <td>...</td>\n",
       "      <td>...</td>\n",
       "      <td>...</td>\n",
       "      <td>...</td>\n",
       "      <td>...</td>\n",
       "      <td>...</td>\n",
       "      <td>...</td>\n",
       "      <td>...</td>\n",
       "      <td>...</td>\n",
       "      <td>...</td>\n",
       "      <td>...</td>\n",
       "    </tr>\n",
       "    <tr>\n",
       "      <th>3771903</th>\n",
       "      <td>2018-07-25 18:25:12.036609792</td>\n",
       "      <td>Cf2JQl4Fk3in6TJJsg</td>\n",
       "      <td>192.168.100.111</td>\n",
       "      <td>29930</td>\n",
       "      <td>197.255.125.11</td>\n",
       "      <td>18246</td>\n",
       "      <td>udp</td>\n",
       "      <td>NaN</td>\n",
       "      <td>0 days 00:00:00.247373</td>\n",
       "      <td>106.0</td>\n",
       "      <td>...</td>\n",
       "      <td>SF</td>\n",
       "      <td>NaN</td>\n",
       "      <td>NaN</td>\n",
       "      <td>0</td>\n",
       "      <td>Dd</td>\n",
       "      <td>1</td>\n",
       "      <td>134</td>\n",
       "      <td>1</td>\n",
       "      <td>365</td>\n",
       "      <td>Benign</td>\n",
       "    </tr>\n",
       "    <tr>\n",
       "      <th>3771904</th>\n",
       "      <td>2018-07-25 22:21:24.001981952</td>\n",
       "      <td>CuUxQ5l0YFXm7aurf</td>\n",
       "      <td>192.168.100.111</td>\n",
       "      <td>864</td>\n",
       "      <td>222.176.49.129</td>\n",
       "      <td>23</td>\n",
       "      <td>tcp</td>\n",
       "      <td>NaN</td>\n",
       "      <td>0 days</td>\n",
       "      <td>0.0</td>\n",
       "      <td>...</td>\n",
       "      <td>S0</td>\n",
       "      <td>NaN</td>\n",
       "      <td>NaN</td>\n",
       "      <td>0</td>\n",
       "      <td>S</td>\n",
       "      <td>1</td>\n",
       "      <td>40</td>\n",
       "      <td>0</td>\n",
       "      <td>0</td>\n",
       "      <td>Malicious PartOfAHorizontalPortScan</td>\n",
       "    </tr>\n",
       "    <tr>\n",
       "      <th>3771905</th>\n",
       "      <td>2018-07-26 05:38:59.387181056</td>\n",
       "      <td>CHqHRtMd3Zx2Wt5t3</td>\n",
       "      <td>4.68.110.10</td>\n",
       "      <td>11</td>\n",
       "      <td>192.168.100.111</td>\n",
       "      <td>0</td>\n",
       "      <td>icmp</td>\n",
       "      <td>NaN</td>\n",
       "      <td>0 days</td>\n",
       "      <td>0.0</td>\n",
       "      <td>...</td>\n",
       "      <td>OTH</td>\n",
       "      <td>NaN</td>\n",
       "      <td>NaN</td>\n",
       "      <td>0</td>\n",
       "      <td>NaN</td>\n",
       "      <td>1</td>\n",
       "      <td>56</td>\n",
       "      <td>0</td>\n",
       "      <td>0</td>\n",
       "      <td>Benign</td>\n",
       "    </tr>\n",
       "    <tr>\n",
       "      <th>3771906</th>\n",
       "      <td>2018-07-26 07:10:22.016359936</td>\n",
       "      <td>CKjpNa3slgClcNt85</td>\n",
       "      <td>192.168.100.111</td>\n",
       "      <td>29930</td>\n",
       "      <td>59.146.147.244</td>\n",
       "      <td>52034</td>\n",
       "      <td>udp</td>\n",
       "      <td>NaN</td>\n",
       "      <td>0 days 00:00:32.010284</td>\n",
       "      <td>318.0</td>\n",
       "      <td>...</td>\n",
       "      <td>S0</td>\n",
       "      <td>NaN</td>\n",
       "      <td>NaN</td>\n",
       "      <td>0</td>\n",
       "      <td>D</td>\n",
       "      <td>3</td>\n",
       "      <td>402</td>\n",
       "      <td>0</td>\n",
       "      <td>0</td>\n",
       "      <td>Benign</td>\n",
       "    </tr>\n",
       "    <tr>\n",
       "      <th>3771907</th>\n",
       "      <td>2018-07-25 16:12:35.005361152</td>\n",
       "      <td>C10fUk3e4VSzaGFVGi</td>\n",
       "      <td>192.168.100.111</td>\n",
       "      <td>44184</td>\n",
       "      <td>165.122.83.4</td>\n",
       "      <td>23</td>\n",
       "      <td>tcp</td>\n",
       "      <td>NaN</td>\n",
       "      <td>0 days</td>\n",
       "      <td>0.0</td>\n",
       "      <td>...</td>\n",
       "      <td>S0</td>\n",
       "      <td>NaN</td>\n",
       "      <td>NaN</td>\n",
       "      <td>0</td>\n",
       "      <td>S</td>\n",
       "      <td>1</td>\n",
       "      <td>40</td>\n",
       "      <td>0</td>\n",
       "      <td>0</td>\n",
       "      <td>Malicious PartOfAHorizontalPortScan</td>\n",
       "    </tr>\n",
       "  </tbody>\n",
       "</table>\n",
       "<p>3771908 rows × 21 columns</p>\n",
       "</div>"
      ],
      "text/plain": [
       "                                    ts                 uid        id.orig_h  \\\n",
       "0        2019-09-20 22:27:19.984081920  CjnBrQ3lWRLcSTnJV6    192.168.1.195   \n",
       "1        2019-09-20 22:25:46.017224960  CHL0ex2ROJt8hD3up6    192.168.1.195   \n",
       "2        2019-09-20 22:25:34.246748928  C7bfRx4kiGSypeozCd   162.248.88.215   \n",
       "3        2019-09-20 22:26:06.340357120  CE7K0r1ua7NTzBHGDf    192.168.1.195   \n",
       "4        2019-09-20 22:23:52.564219904  CylM264HX2dYzLJAl6   162.248.88.215   \n",
       "...                                ...                 ...              ...   \n",
       "3771903  2018-07-25 18:25:12.036609792  Cf2JQl4Fk3in6TJJsg  192.168.100.111   \n",
       "3771904  2018-07-25 22:21:24.001981952   CuUxQ5l0YFXm7aurf  192.168.100.111   \n",
       "3771905  2018-07-26 05:38:59.387181056   CHqHRtMd3Zx2Wt5t3      4.68.110.10   \n",
       "3771906  2018-07-26 07:10:22.016359936   CKjpNa3slgClcNt85  192.168.100.111   \n",
       "3771907  2018-07-25 16:12:35.005361152  C10fUk3e4VSzaGFVGi  192.168.100.111   \n",
       "\n",
       "        id.orig_p        id.resp_h id.resp_p proto service  \\\n",
       "0            4512   162.248.88.215     62336   tcp     NaN   \n",
       "1           49327   162.248.88.215     62336   tcp     NaN   \n",
       "2           62336    192.168.1.195       614   tcp     NaN   \n",
       "3           29776   162.248.88.215     62336   tcp     NaN   \n",
       "4           62336    192.168.1.195      3389   tcp     NaN   \n",
       "...           ...              ...       ...   ...     ...   \n",
       "3771903     29930   197.255.125.11     18246   udp     NaN   \n",
       "3771904       864   222.176.49.129        23   tcp     NaN   \n",
       "3771905        11  192.168.100.111         0  icmp     NaN   \n",
       "3771906     29930   59.146.147.244     52034   udp     NaN   \n",
       "3771907     44184     165.122.83.4        23   tcp     NaN   \n",
       "\n",
       "                       duration  orig_bytes  ...  conn_state local_orig  \\\n",
       "0                           NaN         NaN  ...         OTH        NaN   \n",
       "1                           NaN         NaN  ...         OTH        NaN   \n",
       "2                           NaN         NaN  ...         OTH        NaN   \n",
       "3                           NaN         NaN  ...         OTH        NaN   \n",
       "4                           NaN         NaN  ...         OTH        NaN   \n",
       "...                         ...         ...  ...         ...        ...   \n",
       "3771903  0 days 00:00:00.247373       106.0  ...          SF        NaN   \n",
       "3771904                  0 days         0.0  ...          S0        NaN   \n",
       "3771905                  0 days         0.0  ...         OTH        NaN   \n",
       "3771906  0 days 00:00:32.010284       318.0  ...          S0        NaN   \n",
       "3771907                  0 days         0.0  ...          S0        NaN   \n",
       "\n",
       "         local_resp  missed_bytes  history orig_pkts  orig_ip_bytes  \\\n",
       "0               NaN             0        C         0              0   \n",
       "1               NaN             0        C         0              0   \n",
       "2               NaN             0       ^c         0              0   \n",
       "3               NaN             0        C         0              0   \n",
       "4               NaN             0       ^c         0              0   \n",
       "...             ...           ...      ...       ...            ...   \n",
       "3771903         NaN             0       Dd         1            134   \n",
       "3771904         NaN             0        S         1             40   \n",
       "3771905         NaN             0      NaN         1             56   \n",
       "3771906         NaN             0        D         3            402   \n",
       "3771907         NaN             0        S         1             40   \n",
       "\n",
       "         resp_pkts  resp_ip_bytes                      Traffic_Labeled  \n",
       "0                0              0                       Malicious DDoS  \n",
       "1                0              0                       Malicious DDoS  \n",
       "2                0              0                               Benign  \n",
       "3                0              0                       Malicious DDoS  \n",
       "4                0              0                               Benign  \n",
       "...            ...            ...                                  ...  \n",
       "3771903          1            365                               Benign  \n",
       "3771904          0              0  Malicious PartOfAHorizontalPortScan  \n",
       "3771905          0              0                               Benign  \n",
       "3771906          0              0                               Benign  \n",
       "3771907          0              0  Malicious PartOfAHorizontalPortScan  \n",
       "\n",
       "[3771908 rows x 21 columns]"
      ]
     },
     "execution_count": 9,
     "metadata": {},
     "output_type": "execute_result"
    }
   ],
   "source": [
    "df"
   ]
  },
  {
   "cell_type": "markdown",
   "metadata": {},
   "source": [
    "Subsetting the raw data set due of Hardware Memory issue"
   ]
  },
  {
   "cell_type": "code",
   "execution_count": 10,
   "metadata": {},
   "outputs": [],
   "source": [
    "\n",
    "df_Benign = df.loc[df['Traffic_Labeled'] == 'Benign']\n",
    "df_Benign=df_Benign.loc[np.random.permutation(df_Benign.index)[:30000]]\n",
    "df_Benign.reset_index(inplace=True)\n",
    "df_PortScan = df.loc[df['Traffic_Labeled'] == 'Malicious PartOfAHorizontalPortScan']\n",
    "df_PortScan=df_PortScan.loc[np.random.permutation(df_PortScan.index)[:20000]]\n",
    "df_PortScan.reset_index(inplace=True)\n",
    "df_Okiru = df.loc[df['Traffic_Labeled'] == 'Malicious Okiru']\n",
    "df_Okiru = df_Okiru.loc[np.random.permutation(df_Okiru.index)[:8000]]\n",
    "df_Okiru.reset_index(inplace=True)\n",
    "df_Others = df[df['Traffic_Labeled'].isin(['Malicious DDoS', 'Malicious Attack', \n",
    "                                           'Malicious C&C-HeartBeat', 'Malicious C&C'])]\n",
    "pdList = [df_Benign, df_Okiru, df_PortScan, df_Others]  \n",
    "df = pd.concat(pdList,ignore_index=True)\n",
    "df = df.drop('index',axis=1)"
   ]
  },
  {
   "cell_type": "code",
   "execution_count": 11,
   "metadata": {},
   "outputs": [
    {
     "data": {
      "text/plain": [
       "(60836, 21)"
      ]
     },
     "execution_count": 11,
     "metadata": {},
     "output_type": "execute_result"
    }
   ],
   "source": [
    "df.shape"
   ]
  },
  {
   "cell_type": "markdown",
   "metadata": {},
   "source": [
    "New Variable - Classification Target"
   ]
  },
  {
   "cell_type": "code",
   "execution_count": 12,
   "metadata": {},
   "outputs": [
    {
     "data": {
      "text/plain": [
       "Malicious\n",
       "1.0    50.687093\n",
       "0.0    49.312907\n",
       "Name: count, dtype: float64"
      ]
     },
     "execution_count": 12,
     "metadata": {},
     "output_type": "execute_result"
    }
   ],
   "source": [
    "df.loc[df['Traffic_Labeled'] != 'Benign', 'Malicious'] = 1\n",
    "df.Malicious=df.Malicious.fillna(0)\n",
    "df.Malicious.value_counts()* 100 / len(df)"
   ]
  },
  {
   "cell_type": "code",
   "execution_count": 13,
   "metadata": {},
   "outputs": [
    {
     "data": {
      "text/plain": [
       "Malicious\n",
       "1.0    50.687093\n",
       "0.0    49.312907\n",
       "Name: count, dtype: float64"
      ]
     },
     "execution_count": 13,
     "metadata": {},
     "output_type": "execute_result"
    }
   ],
   "source": [
    "df.Malicious.value_counts()* 100 / len(df)"
   ]
  },
  {
   "cell_type": "markdown",
   "metadata": {},
   "source": [
    "Null Values"
   ]
  },
  {
   "cell_type": "code",
   "execution_count": 14,
   "metadata": {},
   "outputs": [
    {
     "data": {
      "text/plain": [
       "ts                   0.000000\n",
       "uid                  0.000000\n",
       "id.orig_h            0.000000\n",
       "id.orig_p            0.000000\n",
       "id.resp_h            0.000000\n",
       "id.resp_p            0.000000\n",
       "proto                0.000000\n",
       "service             99.516734\n",
       "duration            93.518640\n",
       "orig_bytes          93.518640\n",
       "resp_bytes          93.518640\n",
       "conn_state           0.000000\n",
       "local_orig         100.000000\n",
       "local_resp         100.000000\n",
       "missed_bytes         0.000000\n",
       "history              0.941877\n",
       "orig_pkts            0.000000\n",
       "orig_ip_bytes        0.000000\n",
       "resp_pkts            0.000000\n",
       "resp_ip_bytes        0.000000\n",
       "Traffic_Labeled      0.000000\n",
       "Malicious            0.000000\n",
       "dtype: float64"
      ]
     },
     "execution_count": 14,
     "metadata": {},
     "output_type": "execute_result"
    }
   ],
   "source": [
    "df.isna().sum()* 100 / len(df)"
   ]
  },
  {
   "cell_type": "markdown",
   "metadata": {},
   "source": [
    "Dropping off Variable 'uid' Unique ID of Connection, present 100% unique values"
   ]
  },
  {
   "cell_type": "code",
   "execution_count": 15,
   "metadata": {},
   "outputs": [],
   "source": [
    "df.drop(['local_resp','local_orig','uid'],axis=1,inplace=True)"
   ]
  },
  {
   "cell_type": "markdown",
   "metadata": {},
   "source": [
    "Transport Layer Protocol"
   ]
  },
  {
   "cell_type": "code",
   "execution_count": 16,
   "metadata": {},
   "outputs": [
    {
     "data": {
      "text/plain": [
       "proto\n",
       "tcp     53511\n",
       "udp      6752\n",
       "icmp      573\n",
       "Name: count, dtype: int64"
      ]
     },
     "execution_count": 16,
     "metadata": {},
     "output_type": "execute_result"
    }
   ],
   "source": [
    "df.proto.value_counts()"
   ]
  },
  {
   "cell_type": "markdown",
   "metadata": {},
   "source": [
    "Duration: Time of last packet seen – time of first packet seen"
   ]
  },
  {
   "cell_type": "code",
   "execution_count": 17,
   "metadata": {},
   "outputs": [],
   "source": [
    "from datetime import time, timedelta, datetime \n",
    "df.duration = pd.to_timedelta(df.duration)\n",
    "df.duration = pd.to_timedelta(df['duration']).dt.total_seconds()"
   ]
  },
  {
   "cell_type": "code",
   "execution_count": 18,
   "metadata": {},
   "outputs": [],
   "source": [
    "df[['duration','orig_bytes','resp_bytes']]=df[['duration','orig_bytes','resp_bytes']].fillna"
   ]
  },
  {
   "cell_type": "code",
   "execution_count": 19,
   "metadata": {},
   "outputs": [],
   "source": [
    "df = df.fillna(\"Unknown\")"
   ]
  },
  {
   "cell_type": "code",
   "execution_count": 20,
   "metadata": {},
   "outputs": [
    {
     "data": {
      "text/plain": [
       "ts                 0\n",
       "id.orig_h          0\n",
       "id.orig_p          0\n",
       "id.resp_h          0\n",
       "id.resp_p          0\n",
       "proto              0\n",
       "service            0\n",
       "duration           0\n",
       "orig_bytes         0\n",
       "resp_bytes         0\n",
       "conn_state         0\n",
       "missed_bytes       0\n",
       "history            0\n",
       "orig_pkts          0\n",
       "orig_ip_bytes      0\n",
       "resp_pkts          0\n",
       "resp_ip_bytes      0\n",
       "Traffic_Labeled    0\n",
       "Malicious          0\n",
       "dtype: int64"
      ]
     },
     "execution_count": 20,
     "metadata": {},
     "output_type": "execute_result"
    }
   ],
   "source": [
    "df.isna().sum()"
   ]
  },
  {
   "cell_type": "markdown",
   "metadata": {},
   "source": [
    "Variables with more than 90% unique values"
   ]
  },
  {
   "cell_type": "code",
   "execution_count": 21,
   "metadata": {},
   "outputs": [],
   "source": [
    "df=df.drop(['id.resp_h','id.orig_h'],axis=1)"
   ]
  },
  {
   "cell_type": "code",
   "execution_count": 22,
   "metadata": {},
   "outputs": [
    {
     "name": "stdout",
     "output_type": "stream",
     "text": [
      "Traffic_Labeled\n",
      "Benign                                 30000\n",
      "Malicious PartOfAHorizontalPortScan    20000\n",
      "Malicious Okiru                         8000\n",
      "Malicious DDoS                          2476\n",
      "Malicious Attack                         199\n",
      "Malicious C&C-HeartBeat                  154\n",
      "Malicious C&C                              7\n",
      "Name: count, dtype: int64\n"
     ]
    }
   ],
   "source": [
    "from sklearn.utils import shuffle\n",
    "\n",
    "df.dropna(axis=0, how='any', inplace=True)\n",
    "\n",
    "df.drop_duplicates(subset=None, keep=\"first\", inplace=True)\n",
    "\n",
    "df = shuffle(df)\n",
    "\n",
    "print(df['Traffic_Labeled'].value_counts())"
   ]
  },
  {
   "cell_type": "code",
   "execution_count": 23,
   "metadata": {},
   "outputs": [],
   "source": [
    "df.to_csv('preprocessed_Labeled_IoT.csv', encoding='utf-8')"
   ]
  },
  {
   "cell_type": "markdown",
   "metadata": {},
   "source": [
    "Feature Engineering"
   ]
  },
  {
   "cell_type": "code",
   "execution_count": 24,
   "metadata": {},
   "outputs": [],
   "source": [
    "from sklearn.model_selection import train_test_split\n",
    "\n",
    "from sklearn.preprocessing import StandardScaler\n",
    "\n",
    "from sklearn import preprocessing\n",
    "\n",
    "df_dumie = df\n",
    "\n",
    "def encode_text_dummy(df_dumie, name):\n",
    "\n",
    "    dummies = pd.get_dummies(df[name])\n",
    "\n",
    "    for x in dummies.columns:\n",
    "\n",
    "        dummy_name = f\"{name}-{x}\"\n",
    "\n",
    "        df_dumie[dummy_name] = dummies[x]\n",
    "\n",
    "    df_dumie.drop(name, axis=1, inplace=True)\n",
    "\n",
    "\n",
    "encode_text_dummy(df_dumie,\"proto\")\n",
    "\n",
    "encode_text_dummy(df_dumie,\"service\")"
   ]
  },
  {
   "cell_type": "code",
   "execution_count": 25,
   "metadata": {},
   "outputs": [
    {
     "name": "stdout",
     "output_type": "stream",
     "text": [
      "<class 'pandas.core.frame.DataFrame'>\n",
      "Index: 60836 entries, 12563 to 53538\n",
      "Data columns (total 22 columns):\n",
      " #   Column           Non-Null Count  Dtype  \n",
      "---  ------           --------------  -----  \n",
      " 0   ts               60836 non-null  object \n",
      " 1   id.orig_p        60836 non-null  object \n",
      " 2   id.resp_p        60836 non-null  object \n",
      " 3   duration         60836 non-null  object \n",
      " 4   orig_bytes       60836 non-null  object \n",
      " 5   resp_bytes       60836 non-null  object \n",
      " 6   conn_state       60836 non-null  object \n",
      " 7   missed_bytes     60836 non-null  int64  \n",
      " 8   history          60836 non-null  object \n",
      " 9   orig_pkts        60836 non-null  int64  \n",
      " 10  orig_ip_bytes    60836 non-null  int64  \n",
      " 11  resp_pkts        60836 non-null  int64  \n",
      " 12  resp_ip_bytes    60836 non-null  int64  \n",
      " 13  Traffic_Labeled  60836 non-null  object \n",
      " 14  Malicious        60836 non-null  float64\n",
      " 15  proto-icmp       60836 non-null  bool   \n",
      " 16  proto-tcp        60836 non-null  bool   \n",
      " 17  proto-udp        60836 non-null  bool   \n",
      " 18  service-Unknown  60836 non-null  bool   \n",
      " 19  service-dns      60836 non-null  bool   \n",
      " 20  service-http     60836 non-null  bool   \n",
      " 21  service-ssh      60836 non-null  bool   \n",
      "dtypes: bool(7), float64(1), int64(5), object(9)\n",
      "memory usage: 7.8+ MB\n"
     ]
    }
   ],
   "source": [
    "df_dumie.info()"
   ]
  },
  {
   "cell_type": "markdown",
   "metadata": {},
   "source": [
    "Random Forest"
   ]
  },
  {
   "cell_type": "code",
   "execution_count": 26,
   "metadata": {},
   "outputs": [],
   "source": [
    "from sklearn.ensemble import RandomForestClassifier"
   ]
  },
  {
   "cell_type": "code",
   "execution_count": 27,
   "metadata": {},
   "outputs": [
    {
     "name": "stdout",
     "output_type": "stream",
     "text": [
      "zat: 0.4.7\n",
      "Pandas: 2.2.2\n",
      "Numpy: 1.26.2\n",
      "Scikit Learn Version: 1.3.2\n"
     ]
    }
   ],
   "source": [
    "import zat\n",
    "from sklearn.model_selection import train_test_split\n",
    "from zat.log_to_dataframe import LogToDataFrame\n",
    "from zat.dataframe_to_matrix import DataFrameToMatrix\n",
    "print('zat: {:s}'.format(zat.__version__))\n",
    "import pandas as pd\n",
    "print('Pandas: {:s}'.format(pd.__version__))\n",
    "import numpy as np\n",
    "print('Numpy: {:s}'.format(np.__version__))\n",
    "import sklearn\n",
    "from sklearn.ensemble import IsolationForest\n",
    "from sklearn.decomposition import PCA\n",
    "from sklearn.cluster import KMeans\n",
    "print('Scikit Learn Version:', sklearn.__version__)"
   ]
  },
  {
   "cell_type": "code",
   "execution_count": 28,
   "metadata": {},
   "outputs": [],
   "source": [
    "labels = np.array(df_dumie['Malicious'])\n",
    "features = df_dumie.drop(['Traffic_Labeled','Malicious'], axis = 1)\n",
    "features = features.select_dtypes(exclude=['object'])\n",
    "feature_list = list(features.columns)"
   ]
  },
  {
   "cell_type": "code",
   "execution_count": 29,
   "metadata": {},
   "outputs": [],
   "source": [
    "train_features, test_features, train_labels, test_labels = train_test_split(features, labels, test_size = 0.25, random_state = 42)"
   ]
  },
  {
   "cell_type": "markdown",
   "metadata": {},
   "source": [
    "feature scaling"
   ]
  },
  {
   "cell_type": "code",
   "execution_count": 30,
   "metadata": {},
   "outputs": [],
   "source": [
    "sc_X = StandardScaler()\n",
    "train_features = sc_X.fit_transform(train_features)\n",
    "test_features = sc_X.transform(test_features)"
   ]
  },
  {
   "cell_type": "code",
   "execution_count": 31,
   "metadata": {},
   "outputs": [],
   "source": [
    "clf = RandomForestClassifier(n_estimators = 200, max_depth=20,) "
   ]
  },
  {
   "cell_type": "code",
   "execution_count": 32,
   "metadata": {},
   "outputs": [
    {
     "data": {
      "text/plain": [
       "array([ 0.        ,  1.49132127,  1.09832459, -0.06735393, -0.06479325,\n",
       "       -0.09615585,  0.36849844, -0.35227064,  0.0676726 , -0.0256503 ,\n",
       "       -0.02690315, -0.05646304])"
      ]
     },
     "execution_count": 32,
     "metadata": {},
     "output_type": "execute_result"
    }
   ],
   "source": [
    "train_features[0]"
   ]
  },
  {
   "cell_type": "markdown",
   "metadata": {},
   "source": [
    "Training the model on the training dataset"
   ]
  },
  {
   "cell_type": "code",
   "execution_count": 33,
   "metadata": {},
   "outputs": [
    {
     "name": "stdout",
     "output_type": "stream",
     "text": [
      "\n",
      "ACCURACY OF THE MODEL:  0.6342297323952922\n"
     ]
    }
   ],
   "source": [
    "clf.fit(train_features, train_labels)\n",
    " \n",
    "# performing predictions on the test dataset\n",
    "y_pred = clf.predict(test_features)\n",
    " \n",
    "# metrics are used to find accuracy or error\n",
    "from sklearn import metrics \n",
    "print()\n",
    " \n",
    "# using metrics module for accuracy calculation\n",
    "print(\"ACCURACY OF THE MODEL: \", metrics.accuracy_score(test_labels, y_pred))"
   ]
  },
  {
   "cell_type": "code",
   "execution_count": 43,
   "metadata": {},
   "outputs": [],
   "source": [
    "import pickle\n",
    "pickle.dump(clf, open('model.pkl', 'wb'))"
   ]
  }
 ],
 "metadata": {
  "kernelspec": {
   "display_name": "Python 3",
   "language": "python",
   "name": "python3"
  },
  "language_info": {
   "codemirror_mode": {
    "name": "ipython",
    "version": 3
   },
   "file_extension": ".py",
   "mimetype": "text/x-python",
   "name": "python",
   "nbconvert_exporter": "python",
   "pygments_lexer": "ipython3",
   "version": "3.12.0"
  }
 },
 "nbformat": 4,
 "nbformat_minor": 2
}
